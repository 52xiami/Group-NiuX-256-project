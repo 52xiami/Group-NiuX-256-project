{
 "cells": [
  {
   "cell_type": "code",
   "execution_count": 1,
   "metadata": {},
   "outputs": [],
   "source": [
    "import pandas as pd\n",
    "import json\n",
    "import ast\n",
    "import sqlite3\n",
    "import numpy as np\n",
    "from surprise import SVD\n",
    "from surprise import NMF\n",
    "from surprise import KNNBasic\n",
    "from surprise import Reader\n",
    "from surprise import Dataset\n",
    "from surprise.model_selection import cross_validate\n",
    "from surprise.model_selection import train_test_split\n",
    "from surprise import accuracy\n",
    "from surprise.model_selection import GridSearchCV\n",
    "from surprise.model_selection import KFold\n",
    "from sklearn.model_selection import train_test_split\n",
    "\n",
    "from sklearn import preprocessing\n",
    "## Analysis tools \n",
    "from sklearn.metrics import confusion_matrix,classification_report, accuracy_score, make_scorer\n",
    "from sklearn import model_selection\n",
    "from sklearn.calibration import CalibratedClassifierCV\n",
    "from sklearn.model_selection import train_test_split\n",
    "from sklearn.decomposition import PCA\n",
    "from sklearn.preprocessing import MultiLabelBinarizer\n",
    "from sklearn.neighbors import NearestNeighbors"
   ]
  },
  {
   "cell_type": "code",
   "execution_count": 2,
   "metadata": {},
   "outputs": [],
   "source": [
    "with sqlite3.connect('steam_data.sqlite') as conn:\n",
    "    steam_games = pd.read_sql(\"SELECT * FROM steam_games\",conn)\n",
    "    aus_user_reviews_df = pd.read_sql(\"SELECT * FROM australian_user_reviews\",conn)\n",
    "    aus_user_items_df = pd.read_sql(\"SELECT * FROM australian_users_items\",conn)\n",
    "    bundle_df = pd.read_sql(\"SELECT * FROM bundle_data\",conn)"
   ]
  },
  {
   "cell_type": "code",
   "execution_count": 3,
   "metadata": {},
   "outputs": [],
   "source": [
    "drop_columns = ['index', 'funny', 'last_edited','helpful', 'review', 'user_url','posted']\n",
    "aus_user_reviews_df.drop(drop_columns, inplace=True, axis=1)\n",
    "#aus_user_reviews_df"
   ]
  },
  {
   "cell_type": "code",
   "execution_count": 31,
   "metadata": {},
   "outputs": [],
   "source": [
    "#aus_user_reviews_df.head(4)"
   ]
  },
  {
   "cell_type": "code",
   "execution_count": 4,
   "metadata": {},
   "outputs": [],
   "source": [
    "drop_columns = ['index', 'items_count', 'steam_id', 'user_url','item_name', 'playtime_forever','playtime_2weeks']\n",
    "aus_user_items_df.drop(drop_columns, inplace = True, axis=1)\n"
   ]
  },
  {
   "cell_type": "code",
   "execution_count": 5,
   "metadata": {},
   "outputs": [],
   "source": [
    "# form game genres binary dataframe\n",
    "user_game_genres = pd.read_sql(\"select user_id, item_id, genres, discount_price, price from australian_user_reviews left join steam_games on item_id=id where recommend=True and genres is not null and genres <>'null' and specs is not null and specs <>'null' and tags is not null and tags <>'null';\", conn)\n",
    "mlb = MultiLabelBinarizer()\n",
    "encoded = pd.DataFrame(mlb.fit_transform(user_game_genres['genres'].apply(eval)), columns=mlb.classes_)\n",
    "user_game_genres['discount_price'].fillna(0, inplace=True)\n",
    "user_game_genres['price'].replace({'Play the Demo':0,'Play WARMACHINE: Tactics Demo':0,'Install Now':0,'Free Mod':0,'Third-party':0,'Free To Play': 0, 'Free to Play':0,'free':0,'Free':0, 'Play for Free!':0, 'Free HITMAN™ Holiday Pack':0}, inplace=True)\n",
    "genres_result = pd.concat([user_game_genres['item_id'], user_game_genres['discount_price'], user_game_genres['price'], encoded], axis=1)\n",
    "\n",
    "#engine = create_engine('sqlite:///steam_data.sqlite')"
   ]
  },
  {
   "cell_type": "code",
   "execution_count": 6,
   "metadata": {},
   "outputs": [],
   "source": [
    "# remove duplicates under item_id\n",
    "genres_result.drop_duplicates(['item_id'], inplace=True)"
   ]
  },
  {
   "cell_type": "code",
   "execution_count": 8,
   "metadata": {},
   "outputs": [],
   "source": [
    "#genres_result"
   ]
  },
  {
   "cell_type": "code",
   "execution_count": 7,
   "metadata": {},
   "outputs": [],
   "source": [
    "# price column min-max normalization\n",
    "x_price = genres_result[['price']].values.astype(float)\n",
    "\n",
    "# Create a minimum and maximum processor object\n",
    "min_max_scaler = preprocessing.MinMaxScaler()\n",
    "\n",
    "# Create an object to transform the data to fit minmax processor\n",
    "x_price_scaled = min_max_scaler.fit_transform(x_price)\n",
    "\n",
    "\n",
    "genres_result['price'] = pd.DataFrame(x_price_scaled)"
   ]
  },
  {
   "cell_type": "code",
   "execution_count": 8,
   "metadata": {},
   "outputs": [],
   "source": [
    "# discount_price column min-max normalization\n",
    "x_discount_price = genres_result[['discount_price']].values.astype(float)\n",
    "\n",
    "# Create a minimum and maximum processor object\n",
    "min_max_scaler = preprocessing.MinMaxScaler()\n",
    "\n",
    "# Create an object to transform the data to fit minmax processor\n",
    "x_discount_price_scaled = min_max_scaler.fit_transform(x_discount_price)\n",
    "\n",
    "genres_result['discount_price'] = pd.DataFrame(x_discount_price_scaled)"
   ]
  },
  {
   "cell_type": "code",
   "execution_count": 12,
   "metadata": {},
   "outputs": [],
   "source": [
    "#genres_result"
   ]
  },
  {
   "cell_type": "code",
   "execution_count": 9,
   "metadata": {},
   "outputs": [],
   "source": [
    "#form game specs binary dataframe\n",
    "user_game_specs = pd.read_sql(\"select item_id, specs from australian_user_reviews left join steam_games on item_id=id where recommend=True and specs is not null and genres <>'null';\", conn)\n",
    "mlb = MultiLabelBinarizer()\n",
    "encoded = pd.DataFrame(mlb.fit_transform(user_game_genres['genres'].apply(eval)), columns=mlb.classes_)\n",
    "specs_result = pd.concat([user_game_specs['item_id'], encoded], axis=1)"
   ]
  },
  {
   "cell_type": "code",
   "execution_count": 10,
   "metadata": {},
   "outputs": [],
   "source": [
    "#remove duplicates under item_id\n",
    "specs_result.drop_duplicates(['item_id'], inplace=True)"
   ]
  },
  {
   "cell_type": "code",
   "execution_count": 11,
   "metadata": {},
   "outputs": [],
   "source": [
    "#form game tags binary dataframe\n",
    "user_game_tags = pd.read_sql(\"select item_id, tags from australian_user_reviews left join steam_games on item_id=id where recommend=True and tags is not null and tags <>'null';\", conn)\n",
    "mlb = MultiLabelBinarizer()\n",
    "encoded = pd.DataFrame(mlb.fit_transform(user_game_tags['tags'].apply(eval)), columns=mlb.classes_)\n",
    "tags_result = pd.concat([user_game_specs['item_id'], encoded], axis=1)"
   ]
  },
  {
   "cell_type": "code",
   "execution_count": 12,
   "metadata": {},
   "outputs": [],
   "source": [
    "#remove duplicates under item_id\n",
    "tags_result.drop_duplicates(['item_id'], inplace=True)"
   ]
  },
  {
   "cell_type": "code",
   "execution_count": 13,
   "metadata": {},
   "outputs": [],
   "source": [
    "item_df = pd.merge(genres_result, specs_result, on = 'item_id')\n",
    "item_df = pd.merge(item_df, tags_result, on = 'item_id')\n",
    "item_df.fillna(0, inplace=True)"
   ]
  },
  {
   "cell_type": "code",
   "execution_count": 14,
   "metadata": {},
   "outputs": [],
   "source": [
    "# item_list including all items\n",
    "item_list=[]\n",
    "for item in item_df['item_id']:\n",
    "    item_list.append(item)\n",
    "    \n",
    "# based on user's purchase record to find the 5 most similar items in the unpurchased item list  \n",
    "def item_based_recommendation(user_id, number=5):\n",
    "    number = number\n",
    "    user_item_purchased_df = aus_user_items_df[aus_user_items_df['user_id']== user_id].reset_index(drop=True)\n",
    "    user_item_purchased_df = pd.merge(user_item_purchased_df, item_df, on = 'item_id', how = 'left')\n",
    "    user_item_purchased_df.dropna(inplace = True)\n",
    "    user_item_purchased_list=[]\n",
    "    user_item_unpurchased_list=[]\n",
    "    user_item_recommend_list=[]\n",
    "    for item in user_item_purchased_df['item_id']:\n",
    "        user_item_purchased_list.append(item)\n",
    "    for item in item_list:\n",
    "        if(item not in user_item_purchased_list):\n",
    "            user_item_unpurchased_list.append(item)\n",
    "    user_item_unpurchased_df = pd.DataFrame()\n",
    "    user_item_unpurchased_df['item_id'] = user_item_unpurchased_list\n",
    "    # form a DataFrame including user's unpurchased items\n",
    "    user_item_unpurchased_df = pd.merge(user_item_unpurchased_df, item_df, on = 'item_id', how = 'left')\n",
    "    # only look for 1 nearest neighbor\n",
    "    neigh = NearestNeighbors(n_neighbors=1)\n",
    "    neigh.fit(user_item_unpurchased_df.drop('item_id',axis=1)) \n",
    "    user_columns = ['user_id', 'item_id']\n",
    "    user_item_neighbor_list = neigh.kneighbors(user_item_purchased_df.drop(user_columns, axis=1), return_distance=False)\n",
    "    if(len(user_item_neighbor_list)>number):\n",
    "        for item in user_item_neighbor_list[:number]:\n",
    "            user_item_recommend_list.append(user_item_unpurchased_df['item_id'].iloc[item])\n",
    "    else:\n",
    "        for item in user_item_neighbor_list:\n",
    "            user_item_recommend_list.append(user_item_unpurchased_df['item_id'].iloc[item])\n",
    "    return user_item_recommend_list\n",
    "    #(user_item_recommend_list)\n",
    "    "
   ]
  },
  {
   "cell_type": "code",
   "execution_count": 15,
   "metadata": {},
   "outputs": [
    {
     "data": {
      "text/html": [
       "<div>\n",
       "<style scoped>\n",
       "    .dataframe tbody tr th:only-of-type {\n",
       "        vertical-align: middle;\n",
       "    }\n",
       "\n",
       "    .dataframe tbody tr th {\n",
       "        vertical-align: top;\n",
       "    }\n",
       "\n",
       "    .dataframe thead th {\n",
       "        text-align: right;\n",
       "    }\n",
       "</style>\n",
       "<table border=\"1\" class=\"dataframe\">\n",
       "  <thead>\n",
       "    <tr style=\"text-align: right;\">\n",
       "      <th></th>\n",
       "      <th>item_id</th>\n",
       "      <th>discount_price</th>\n",
       "      <th>price</th>\n",
       "      <th>Action_x</th>\n",
       "      <th>Adventure_x</th>\n",
       "      <th>Animation &amp;amp; Modeling_x</th>\n",
       "      <th>Audio Production_x</th>\n",
       "      <th>Casual_x</th>\n",
       "      <th>Design &amp;amp; Illustration_x</th>\n",
       "      <th>Early Access_x</th>\n",
       "      <th>...</th>\n",
       "      <th>Warhammer 40K</th>\n",
       "      <th>Web Publishing</th>\n",
       "      <th>Werewolves</th>\n",
       "      <th>Western</th>\n",
       "      <th>Word Game</th>\n",
       "      <th>World War I</th>\n",
       "      <th>World War II</th>\n",
       "      <th>Wrestling</th>\n",
       "      <th>Zombies</th>\n",
       "      <th>e-sports</th>\n",
       "    </tr>\n",
       "  </thead>\n",
       "  <tbody>\n",
       "    <tr>\n",
       "      <th>0</th>\n",
       "      <td>1250</td>\n",
       "      <td>0.0</td>\n",
       "      <td>0.025904</td>\n",
       "      <td>1</td>\n",
       "      <td>0</td>\n",
       "      <td>0</td>\n",
       "      <td>0</td>\n",
       "      <td>0</td>\n",
       "      <td>0</td>\n",
       "      <td>0</td>\n",
       "      <td>...</td>\n",
       "      <td>0</td>\n",
       "      <td>0</td>\n",
       "      <td>0</td>\n",
       "      <td>0</td>\n",
       "      <td>0</td>\n",
       "      <td>0</td>\n",
       "      <td>0</td>\n",
       "      <td>0</td>\n",
       "      <td>1</td>\n",
       "      <td>0</td>\n",
       "    </tr>\n",
       "  </tbody>\n",
       "</table>\n",
       "<p>1 rows × 374 columns</p>\n",
       "</div>"
      ],
      "text/plain": [
       "  item_id  discount_price     price  Action_x  Adventure_x  \\\n",
       "0    1250             0.0  0.025904         1            0   \n",
       "\n",
       "   Animation &amp; Modeling_x  Audio Production_x  Casual_x  \\\n",
       "0                           0                   0         0   \n",
       "\n",
       "   Design &amp; Illustration_x  Early Access_x  ...  Warhammer 40K  \\\n",
       "0                            0               0  ...              0   \n",
       "\n",
       "   Web Publishing  Werewolves  Western  Word Game  World War I  World War II  \\\n",
       "0               0           0        0          0            0             0   \n",
       "\n",
       "   Wrestling  Zombies  e-sports  \n",
       "0          0        1         0  \n",
       "\n",
       "[1 rows x 374 columns]"
      ]
     },
     "execution_count": 15,
     "metadata": {},
     "output_type": "execute_result"
    }
   ],
   "source": [
    "item_df.head(1)"
   ]
  },
  {
   "cell_type": "code",
   "execution_count": 17,
   "metadata": {},
   "outputs": [],
   "source": [
    "#SVD algorithm\n",
    "reader = Reader(rating_scale=(0, 1))\n",
    "data_training = Dataset.load_from_df(aus_user_reviews_df[['user_id', 'item_id', 'recommend']], reader)"
   ]
  },
  {
   "cell_type": "code",
   "execution_count": 21,
   "metadata": {},
   "outputs": [],
   "source": [
    "trainset, testset = train_test_split(data_training, test_size=.25)"
   ]
  },
  {
   "cell_type": "code",
   "execution_count": 24,
   "metadata": {},
   "outputs": [
    {
     "data": {
      "text/plain": [
       "<surprise.dataset.DatasetAutoFolds at 0x1a7dd3c208>"
      ]
     },
     "execution_count": 24,
     "metadata": {},
     "output_type": "execute_result"
    }
   ],
   "source": [
    "data_training"
   ]
  },
  {
   "cell_type": "code",
   "execution_count": 19,
   "metadata": {},
   "outputs": [],
   "source": [
    "# SVD Algorithm\n",
    "algo_svd = SVD(n_factors= 400, reg_all=0.001)\n",
    "kf = KFold(n_splits=5)"
   ]
  },
  {
   "cell_type": "code",
   "execution_count": 20,
   "metadata": {},
   "outputs": [
    {
     "name": "stdout",
     "output_type": "stream",
     "text": [
      "RMSE: 0.3197\n",
      "RMSE: 0.3220\n",
      "RMSE: 0.3245\n",
      "RMSE: 0.3223\n",
      "RMSE: 0.3182\n"
     ]
    }
   ],
   "source": [
    "for trainset, testset in kf.split(data_training):\n",
    "\n",
    "    # train and test algorithm.\n",
    "    algo_svd.fit(trainset)\n",
    "    predictions = algo_svd.test(testset)\n",
    "\n",
    "    # Compute and print Root Mean Squared Error\n",
    "    accuracy.rmse(predictions, verbose=True)"
   ]
  },
  {
   "cell_type": "code",
   "execution_count": 22,
   "metadata": {},
   "outputs": [
    {
     "data": {
      "text/plain": [
       "Prediction(uid='imreadytogameup', iid='570', r_ui=1.0, est=0.9474584357885172, details={'was_impossible': False})"
      ]
     },
     "execution_count": 22,
     "metadata": {},
     "output_type": "execute_result"
    }
   ],
   "source": [
    "predictions[1]"
   ]
  },
  {
   "cell_type": "code",
   "execution_count": 42,
   "metadata": {},
   "outputs": [],
   "source": [
    "# item_list including all items\n",
    "item_list=[]\n",
    "for item in item_df['item_id']:\n",
    "    item_list.append(item)\n",
    "def SVD_model_recommendation(user_id, number=5):\n",
    "    number = number\n",
    "    user_item_purchased_df = aus_user_items_df[aus_user_items_df['user_id']== user_id].reset_index(drop=True)\n",
    "    user_item_purchased_df = pd.merge(user_item_purchased_df, item_df, on = 'item_id', how = 'left')\n",
    "    user_item_purchased_df.dropna(inplace = True)\n",
    "    user_item_purchased_list=[]\n",
    "    user_item_unpurchased_list=[]\n",
    "    user_item_recommend_list=[]\n",
    "    for item in user_item_purchased_df['item_id']:\n",
    "        user_item_purchased_list.append(item)\n",
    "    for item in item_list:\n",
    "        if(item not in user_item_purchased_list):\n",
    "            user_item_unpurchased_list.append(item)\n",
    "    user_item_unpurchased_df = pd.DataFrame()\n",
    "    user_item_unpurchased_df['item_id'] = user_item_unpurchased_list\n",
    "    user_item_unpurchased_df['user_id'] = user_id\n",
    "    user_item_unpurchased_df['recommend'] = np.nan\n",
    "    data_testing = Dataset.load_from_df(user_item_unpurchased_df[['user_id', 'item_id', 'recommend']], reader)\n",
    "    data_testingset = data_testing.build_full_trainset().build_testset()\n",
    "    predictions = algo_svd.test(data_testingset)\n",
    "    predictions_df = pd.DataFrame(predictions)\n",
    "    predictions_df.sort_values(by='est', ascending=False, inplace=True)\n",
    "    \n",
    "    #if(predictions_df.shape(0)>number):\n",
    "    return predictions_df['iid'][:number].reset_index(drop=True)\n",
    "    #else:\n",
    "        #return predictions_df['item_id']"
   ]
  },
  {
   "cell_type": "code",
   "execution_count": null,
   "metadata": {},
   "outputs": [],
   "source": []
  }
 ],
 "metadata": {
  "kernelspec": {
   "display_name": "Python 3",
   "language": "python",
   "name": "python3"
  },
  "language_info": {
   "codemirror_mode": {
    "name": "ipython",
    "version": 3
   },
   "file_extension": ".py",
   "mimetype": "text/x-python",
   "name": "python",
   "nbconvert_exporter": "python",
   "pygments_lexer": "ipython3",
   "version": "3.7.3"
  }
 },
 "nbformat": 4,
 "nbformat_minor": 2
}
